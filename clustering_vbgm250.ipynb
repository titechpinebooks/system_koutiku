{
 "cells": [
  {
   "cell_type": "code",
   "execution_count": 21,
   "metadata": {},
   "outputs": [],
   "source": [
    "import pandas as pd\n",
    "import numpy as np\n",
    "from sklearn import preprocessing, mixture\n",
    "import matplotlib.pyplot as plt\n",
    "tags = np.loadtxt(\"tags_vector.dat\")"
   ]
  },
  {
   "cell_type": "code",
   "execution_count": 22,
   "metadata": {},
   "outputs": [],
   "source": [
    "vbgm = mixture.BayesianGaussianMixture(n_components=250, random_state=0)"
   ]
  },
  {
   "cell_type": "code",
   "execution_count": 23,
   "metadata": {},
   "outputs": [],
   "source": [
    "vbgm = vbgm.fit(tags)"
   ]
  },
  {
   "cell_type": "code",
   "execution_count": 24,
   "metadata": {},
   "outputs": [],
   "source": [
    "labels = vbgm.predict(tags)"
   ]
  },
  {
   "cell_type": "code",
   "execution_count": 25,
   "metadata": {},
   "outputs": [
    {
     "data": {
      "text/plain": [
       "250"
      ]
     },
     "execution_count": 25,
     "metadata": {},
     "output_type": "execute_result"
    }
   ],
   "source": [
    "label_num = len(set(labels))\n",
    "label_num"
   ]
  },
  {
   "cell_type": "code",
   "execution_count": 26,
   "metadata": {},
   "outputs": [
    {
     "data": {
      "text/plain": [
       "<function matplotlib.pyplot.show(close=None, block=None)>"
      ]
     },
     "execution_count": 26,
     "metadata": {},
     "output_type": "execute_result"
    },
    {
     "data": {
      "image/png": "[encoded data removed]",
      "text/plain": [
       "<Figure size 432x288 with 1 Axes>"
      ]
     },
     "metadata": {
      "needs_background": "light"
     },
     "output_type": "display_data"
    }
   ],
   "source": [
    "x_tick =np.array([x for x in range(label_num)])\n",
    "plt.bar(x_tick, vbgm.weights_, tick_label=x_tick)\n",
    "plt.show"
   ]
  },
  {
   "cell_type": "code",
   "execution_count": 27,
   "metadata": {},
   "outputs": [],
   "source": [
    "df = pd.read_csv(\"2000tags.csv\")\n",
    "df2 = pd.DataFrame({\n",
    "    \"単語ベクトル\": list(tags),\n",
    "    \"クラスタ番号\": list(labels)\n",
    "})\n",
    "df3 = pd.concat([df.loc[:,[\"タグ\",\"投稿数\"]],df2], axis=1)\n",
    "\n",
    "df3.set_index(\"タグ\").to_csv(\"./2000tags_cluster.csv\")"
   ]
  },
  {
   "cell_type": "code",
   "execution_count": 28,
   "metadata": {},
   "outputs": [],
   "source": [
    "hashtags = [[] for i in range(label_num)]\n",
    "for j in range(2000):\n",
    "    hashtags[df3.loc[j][\"クラスタ番号\"]].append(df3.loc[j][\"タグ\"])"
   ]
  },
  {
   "cell_type": "code",
   "execution_count": 29,
   "metadata": {},
   "outputs": [],
   "source": [
    "df3 = pd.DataFrame({\n",
    "    \"クラスタ番号\": list(range(label_num)),\n",
    "    \"タグ\": hashtags\n",
    "})\n",
    "\n",
    "df3.set_index(\"クラスタ番号\").to_csv(\"./tags_per_cluster.csv\")"
   ]
  },
  {
   "cell_type": "code",
   "execution_count": 30,
   "metadata": {},
   "outputs": [],
   "source": [
    "with open(\"tags_per_cluster.dat\",\"w\") as f:\n",
    "  for elem in hashtags:\n",
    "    f.write(str(elem) + \"\\n\")\n",
    "f.close()"
   ]
  },
  {
   "cell_type": "code",
   "execution_count": null,
   "metadata": {},
   "outputs": [],
   "source": []
  }
 ],
 "metadata": {
  "kernelspec": {
   "display_name": "Python 3",
   "language": "python",
   "name": "python3"
  },
  "language_info": {
   "codemirror_mode": {
    "name": "ipython",
    "version": 3
   },
   "file_extension": ".py",
   "mimetype": "text/x-python",
   "name": "python",
   "nbconvert_exporter": "python",
   "pygments_lexer": "ipython3",
   "version": "3.8.5"
  }
 },
 "nbformat": 4,
 "nbformat_minor": 4
}
